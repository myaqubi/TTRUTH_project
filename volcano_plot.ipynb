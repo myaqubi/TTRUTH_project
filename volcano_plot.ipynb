{
 "cells": [
  {
   "cell_type": "code",
   "execution_count": null,
   "id": "92755282-d75a-4eb8-8419-2616859cbd8d",
   "metadata": {},
   "outputs": [],
   "source": [
    "import pandas as pd\n",
    "import matplotlib.pyplot as plt\n",
    "import seaborn as sns\n",
    "import numpy as np\n",
    "\n",
    "# Load the data from the Excel file\n",
    "file_path = 'DESeq2_output.xlsx'   # Replace with your actual file path\n",
    "df = pd.read_excel(file_path)\n",
    "\n",
    "# Assuming the columns are named 'Gene Symbol', 'log2FoldChange', and 'padj'\n",
    "df.columns = ['Gene Symbol', 'log2FoldChange', 'padj']\n",
    "\n",
    "# Create a new column for coloring based on criteria\n",
    "def color_genes(row):\n",
    "  if row['padj'] < 0.05 and (row['log2FoldChange'] > 1 or row['log2FoldChange'] < -1):\n",
    "  return 'red'\n",
    "elif row['padj'] < 0.05:\n",
    "  return 'blue'\n",
    "else:\n",
    "  return 'grey'\n",
    "\n",
    "df['color'] = df.apply(color_genes, axis=1)\n",
    "\n",
    "# Create the volcano plot\n",
    "plt.figure(figsize=(10, 8))\n",
    "sns.scatterplot(data=df, x='log2FoldChange', y=-np.log10(df['padj']), hue='color', palette={'red':'red', 'blue':'blue', 'grey':'grey'}, legend=False)\n",
    "plt.xlabel('log2(Fold Change)')\n",
    "plt.ylabel('-log10(Adjusted P-value)')\n",
    "plt.title('Volcano Plot')\n",
    "\n",
    "# Add a horizontal line at y = -log10(0.05) to denote the p-value threshold\n",
    "plt.axhline(y=-np.log10(0.05), color='grey', linestyle='--')\n",
    "\n",
    "# Add vertical lines at x = -1 and x = 1 to denote the fold change thresholds\n",
    "plt.axvline(x=-1, color='grey', linestyle='--')\n",
    "plt.axvline(x=1, color='grey', linestyle='--')\n",
    "\n",
    "# Add a legend in the upper left corner\n",
    "from matplotlib.lines import Line2D\n",
    "legend_elements = [Line2D([0], [0], marker='o', color='w', label='p adj < 0.05 & |log2FC| > 1', markerfacecolor='red', markersize=10),\n",
    "                   Line2D([0], [0], marker='o', color='w', label='p adj < 0.05', markerfacecolor='blue', markersize=10),\n",
    "                   Line2D([0], [0], marker='o', color='w', label='Other', markerfacecolor='grey', markersize=10)]\n",
    "plt.legend(handles=legend_elements, loc='upper left')\n",
    "\n",
    "# Save the plot with high resolution\n",
    "save_path = 'volcano_plot.png'\n",
    "plt.savefig(save_path, dpi=300, bbox_inches='tight')\n",
    "\n",
    "# Show the plot\n",
    "plt.show()"
   ]
  }
 ],
 "metadata": {
  "kernelspec": {
   "display_name": "Python 3 (ipykernel)",
   "language": "python",
   "name": "python3"
  },
  "language_info": {
   "codemirror_mode": {
    "name": "ipython",
    "version": 3
   },
   "file_extension": ".py",
   "mimetype": "text/x-python",
   "name": "python",
   "nbconvert_exporter": "python",
   "pygments_lexer": "ipython3",
   "version": "3.10.8"
  }
 },
 "nbformat": 4,
 "nbformat_minor": 5
}
